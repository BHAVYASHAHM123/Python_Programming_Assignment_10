{
  "nbformat": 4,
  "nbformat_minor": 0,
  "metadata": {
    "colab": {
      "name": "Python_Programming_Assignment_10.ipynb",
      "provenance": []
    },
    "kernelspec": {
      "name": "python3",
      "display_name": "Python 3"
    },
    "language_info": {
      "name": "python"
    }
  },
  "cells": [
    {
      "cell_type": "markdown",
      "source": [
        "Q1) Write a Python program to find sum of elements in list?"
      ],
      "metadata": {
        "id": "wQX6t6rke6zp"
      }
    },
    {
      "cell_type": "code",
      "execution_count": 5,
      "metadata": {
        "colab": {
          "base_uri": "https://localhost:8080/"
        },
        "id": "73pCv3RAel_4",
        "outputId": "7f5a7f76-4aad-435d-822f-f02d189db282"
      },
      "outputs": [
        {
          "output_type": "stream",
          "name": "stdout",
          "text": [
            "Sum of all elements in given list:  85\n"
          ]
        }
      ],
      "source": [
        "c = 0\n",
        "l = [12, 8, 27, 8, 30]\n",
        "for i in range(0, len(l)):\n",
        "\tc = c + l[i]\n",
        "print(\"Sum of all elements in given list: \", c)\n"
      ]
    },
    {
      "cell_type": "markdown",
      "source": [
        "Q2) Write a Python program to Multiply all numbers in the list?"
      ],
      "metadata": {
        "id": "ZrhNT18afiFY"
      }
    },
    {
      "cell_type": "code",
      "source": [
        "def multiplyList(myList) :\n",
        "\n",
        "\tresult = 1\n",
        "\tfor x in myList:\n",
        "\t\tresult = result * x\n",
        "\treturn result\n",
        "\n",
        "list1 = [1, 2, 3]\n",
        "list2 = [3, 2, 4]\n",
        "print(multiplyList(list1))\n",
        "print(multiplyList(list2))\n"
      ],
      "metadata": {
        "colab": {
          "base_uri": "https://localhost:8080/"
        },
        "id": "mdWgrrQxfLCr",
        "outputId": "b1197e55-654a-4066-83eb-b32c4d1aebbf"
      },
      "execution_count": 6,
      "outputs": [
        {
          "output_type": "stream",
          "name": "stdout",
          "text": [
            "6\n",
            "24\n"
          ]
        }
      ]
    },
    {
      "cell_type": "markdown",
      "source": [
        "Q3) Write a Python program to find smallest number in a list?"
      ],
      "metadata": {
        "id": "KxFJsWvGf-uz"
      }
    },
    {
      "cell_type": "code",
      "source": [
        "def smallest( list ):\n",
        "    min = list[ 0 ]\n",
        "    for a in list:\n",
        "        if a < min:\n",
        "            min = a\n",
        "    return min\n",
        "print(smallest([1, 3, -7, 0]))\n"
      ],
      "metadata": {
        "colab": {
          "base_uri": "https://localhost:8080/"
        },
        "id": "qtjysZBPfuIW",
        "outputId": "3da30f4a-4b04-4d38-fe20-89701565d94d"
      },
      "execution_count": 7,
      "outputs": [
        {
          "output_type": "stream",
          "name": "stdout",
          "text": [
            "-7\n"
          ]
        }
      ]
    },
    {
      "cell_type": "markdown",
      "source": [
        "Q4) Write a Python program to find largest number in a list?"
      ],
      "metadata": {
        "id": "uEksT7tThnZZ"
      }
    },
    {
      "cell_type": "code",
      "source": [
        "def max( list ):\n",
        "    max = list[ 0 ]\n",
        "    for a in list:\n",
        "        if a > max:\n",
        "            max = a\n",
        "    return max\n",
        "print(max([1, 3, -7, 0]))\n"
      ],
      "metadata": {
        "colab": {
          "base_uri": "https://localhost:8080/"
        },
        "id": "mZNqeSqUgTQ4",
        "outputId": "cf55bc0d-21f9-476a-9552-898bd05e7c42"
      },
      "execution_count": 8,
      "outputs": [
        {
          "output_type": "stream",
          "name": "stdout",
          "text": [
            "3\n"
          ]
        }
      ]
    },
    {
      "cell_type": "markdown",
      "source": [
        "Q5) Write a Python program to find second largest number in a list?"
      ],
      "metadata": {
        "id": "yeHmuA2YiDf9"
      }
    },
    {
      "cell_type": "code",
      "source": [
        "list_val = [20, 30, 40, 50, 10]  \n",
        "list_val.sort()  \n",
        "print(\"The second largest element of the list is:\", list_val[-2])  "
      ],
      "metadata": {
        "colab": {
          "base_uri": "https://localhost:8080/"
        },
        "id": "HORLBgyoh6HJ",
        "outputId": "d5cf3232-6fb6-4322-c0d6-27c1bc576466"
      },
      "execution_count": 10,
      "outputs": [
        {
          "output_type": "stream",
          "name": "stdout",
          "text": [
            "The second largest element of the list is: 40\n"
          ]
        }
      ]
    },
    {
      "cell_type": "markdown",
      "source": [
        "Q6) Write a Python program to find N largest elements from a list?"
      ],
      "metadata": {
        "id": "dczVCO5jictS"
      }
    },
    {
      "cell_type": "code",
      "source": [
        "def Nmaxelements(list1, N):\n",
        "\tfinal_list = []\n",
        "\n",
        "\tfor i in range(0, N):\n",
        "\t\tmax1 = 0\n",
        "\t\t\n",
        "\t\tfor j in range(len(list1)):\t\n",
        "\t\t\tif list1[j] > max1:\n",
        "\t\t\t\tmax1 = list1[j];\n",
        "\t\t\t\t\n",
        "\t\tlist1.remove(max1);\n",
        "\t\tfinal_list.append(max1)\n",
        "\t\t\n",
        "\tprint(final_list)\n",
        "\n",
        "list1 = [2, 6, 41, 85, 0, 3, 7, 6, 10]\n",
        "N = 2\n",
        "\n",
        "Nmaxelements(list1, N)\n",
        "\n"
      ],
      "metadata": {
        "colab": {
          "base_uri": "https://localhost:8080/"
        },
        "id": "Sio-TAJSiTzG",
        "outputId": "6f57f70f-90f6-4e0f-d472-fc359ca53751"
      },
      "execution_count": 12,
      "outputs": [
        {
          "output_type": "stream",
          "name": "stdout",
          "text": [
            "[85, 41]\n"
          ]
        }
      ]
    },
    {
      "cell_type": "markdown",
      "source": [
        "Q7) Write a Python program to print even numbers in a list?"
      ],
      "metadata": {
        "id": "fhqYLnNSjGvg"
      }
    },
    {
      "cell_type": "code",
      "source": [
        "def even_num(l):\n",
        "    enum = []\n",
        "    for n in l:\n",
        "        if n % 2 == 0:\n",
        "            enum.append(n)\n",
        "    return enum\n",
        "print(even_num([1, 2, 3, 4, 5, 6, 7, 8, 9]))\n"
      ],
      "metadata": {
        "colab": {
          "base_uri": "https://localhost:8080/"
        },
        "id": "zRtN5vSgizjl",
        "outputId": "73e59730-9231-419e-a86e-63f5cb40992d"
      },
      "execution_count": 14,
      "outputs": [
        {
          "output_type": "stream",
          "name": "stdout",
          "text": [
            "[2, 4, 6, 8]\n"
          ]
        }
      ]
    },
    {
      "cell_type": "markdown",
      "source": [
        "Q8) Write a Python program to print odd numbers in a List?"
      ],
      "metadata": {
        "id": "qI9WE1OQjW7a"
      }
    },
    {
      "cell_type": "code",
      "source": [
        "def odd(list):\n",
        "    new_list=[]\n",
        "    for i in list:\n",
        "        if i%2!=0:               \n",
        "            new_list.append(i)\n",
        "    return new_list\n",
        "\n",
        "li=[]\n",
        "n=int(input(\"Enter size of list \"))\n",
        "for i in range(0,n):\n",
        "    e=int(input(\"Enter element of list \"))\n",
        "    li.append(e)\n",
        "\n",
        "print(\"Odd numbers in \",li)\n",
        "print(odd(li))"
      ],
      "metadata": {
        "colab": {
          "base_uri": "https://localhost:8080/"
        },
        "id": "hHfGpboNjJ78",
        "outputId": "d5bdee2a-a82c-4df3-f475-fa799c6deb35"
      },
      "execution_count": 15,
      "outputs": [
        {
          "output_type": "stream",
          "name": "stdout",
          "text": [
            "Enter size of list 6\n",
            "Enter element of list 2\n",
            "Enter element of list 1\n",
            "Enter element of list 2\n",
            "Enter element of list 21\n",
            "Enter element of list 23\n",
            "Enter element of list 65\n",
            "Odd numbers in  [2, 1, 2, 21, 23, 65]\n",
            "[1, 21, 23, 65]\n"
          ]
        }
      ]
    },
    {
      "cell_type": "markdown",
      "source": [
        "Q9) Write a Python program to Remove empty List from List?"
      ],
      "metadata": {
        "id": "SGCoDmA1jxu8"
      }
    },
    {
      "cell_type": "code",
      "source": [
        "list1 = [[], [], [], 'Red', 'Green', [1,2], 'Blue', [], []]\n",
        "print(\"Original list:\")\n",
        "print(list1)\n",
        "print(\"\\nAfter deleting the empty lists from the said lists of lists\")\n",
        "list2 = [x for x in list1 if x]\n",
        "print(list2)\n"
      ],
      "metadata": {
        "colab": {
          "base_uri": "https://localhost:8080/"
        },
        "id": "P3OvCudtjkC5",
        "outputId": "b53f469c-852a-4bc1-ae15-3d440e6453bd"
      },
      "execution_count": 16,
      "outputs": [
        {
          "output_type": "stream",
          "name": "stdout",
          "text": [
            "Original list:\n",
            "[[], [], [], 'Red', 'Green', [1, 2], 'Blue', [], []]\n",
            "\n",
            "After deleting the empty lists from the said lists of lists\n",
            "['Red', 'Green', [1, 2], 'Blue']\n"
          ]
        }
      ]
    },
    {
      "cell_type": "markdown",
      "source": [
        "Q10) Write a Python program to Cloning or Copying a list?"
      ],
      "metadata": {
        "id": "gFyeO7tmkQ3I"
      }
    },
    {
      "cell_type": "code",
      "source": [
        "original_list = [10, 22, 4, 30, 40]\n",
        "new_list = list(original_list)\n",
        "print(original_list)\n",
        "print(new_list)\n"
      ],
      "metadata": {
        "colab": {
          "base_uri": "https://localhost:8080/"
        },
        "id": "c2Mzx77LkD76",
        "outputId": "03a643eb-6e28-4bbc-e1d5-c9155191b601"
      },
      "execution_count": 17,
      "outputs": [
        {
          "output_type": "stream",
          "name": "stdout",
          "text": [
            "[10, 22, 4, 30, 40]\n",
            "[10, 22, 4, 30, 40]\n"
          ]
        }
      ]
    },
    {
      "cell_type": "markdown",
      "source": [
        "Q11) Write a Python program to Count occurrences of an element in a list?"
      ],
      "metadata": {
        "id": "f7UyBU3KklEC"
      }
    },
    {
      "cell_type": "code",
      "source": [
        "def countX(lst, x):\n",
        "\tcount = 0\n",
        "\tfor ele in lst:\n",
        "\t\tif (ele == x):\n",
        "\t\t\tcount = count + 1\n",
        "\treturn count\n",
        "\n",
        "lst = [8, 6, 8, 10, 8, 20, 10, 8, 8]\n",
        "x = 8\n",
        "print('{} has occurred {} times'.format(x, countX(lst, x)))\n"
      ],
      "metadata": {
        "colab": {
          "base_uri": "https://localhost:8080/"
        },
        "id": "RtGyvdMIkdQl",
        "outputId": "107a685d-7f7b-47d5-dcd3-9195604ff636"
      },
      "execution_count": 18,
      "outputs": [
        {
          "output_type": "stream",
          "name": "stdout",
          "text": [
            "8 has occurred 5 times\n"
          ]
        }
      ]
    },
    {
      "cell_type": "code",
      "source": [
        ""
      ],
      "metadata": {
        "id": "SFsmzFY-kymW"
      },
      "execution_count": null,
      "outputs": []
    }
  ]
}